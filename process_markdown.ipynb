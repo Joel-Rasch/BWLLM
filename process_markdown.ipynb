{
 "cells": [
  {
   "cell_type": "code",
   "execution_count": 1,
   "id": "e79c998b",
   "metadata": {},
   "outputs": [],
   "source": [
    "import os\n",
    "from pathlib import Path\n",
    "import re\n",
    "import time\n",
    "\n",
    "from dotenv import load_dotenv\n",
    "from langchain_google_genai import ChatGoogleGenerativeAI\n",
    "from langchain_core.messages import HumanMessage"
   ]
  },
  {
   "cell_type": "code",
   "execution_count": 2,
   "id": "44ce5efe",
   "metadata": {},
   "outputs": [],
   "source": [
    "# Konfiguration\n",
    "input_dir = Path('data/raw')\n",
    "text_dir = Path('data/text')\n",
    "table_dir = Path('data/table')\n",
    "tabletext_dir = Path('data/tabletext')\n",
    "output_dir = Path('data/processed')\n",
    "min_length = 100"
   ]
  },
  {
   "cell_type": "markdown",
   "id": "18ee9f6e",
   "metadata": {},
   "source": [
    "# 1. Texte aus den Rohdaten extrahieren"
   ]
  },
  {
   "cell_type": "code",
   "execution_count": 3,
   "id": "ab3bac5a",
   "metadata": {},
   "outputs": [],
   "source": [
    "# Alle .md-Dateien im Eingabeordner durchgehen\n",
    "for input_file in input_dir.glob('*.md'):\n",
    "    # Datei einlesen\n",
    "    with input_file.open('r', encoding='utf-8') as f:\n",
    "        lines = f.readlines()\n",
    "\n",
    "    # Zeilen filtern\n",
    "    filtered_lines = []\n",
    "    for line in lines:\n",
    "        stripped = line.strip()\n",
    "        if len(stripped) >= min_length:\n",
    "            filtered_lines.append(line)\n",
    "\n",
    "    # Neuen Dateinamen erstellen\n",
    "    output_filename = input_file.stem + '_text.md'\n",
    "    output_file = text_dir / output_filename\n",
    "\n",
    "    # Gefilterte Zeilen schreiben\n",
    "    with output_file.open('w', encoding='utf-8') as f:\n",
    "        f.writelines(filtered_lines)"
   ]
  },
  {
   "cell_type": "markdown",
   "id": "67814338",
   "metadata": {},
   "source": [
    "# 2. Tabellen aus den Rohdaten extrahieren"
   ]
  },
  {
   "cell_type": "code",
   "execution_count": 4,
   "id": "2a6264bb",
   "metadata": {},
   "outputs": [],
   "source": [
    "# Alle .md-Dateien im Eingabeordner durchgehen\n",
    "for input_file in input_dir.glob('*.md'):\n",
    "    # Datei einlesen\n",
    "    with input_file.open('r', encoding='utf-8') as f:\n",
    "        lines = f.readlines()\n",
    "\n",
    "    # Zeilen filtern: nur Tabellenbereiche behalten\n",
    "    filtered_lines = []\n",
    "    inside_table = False\n",
    "    for line in lines:\n",
    "        stripped = line.strip()\n",
    "        if stripped == \"--- Tabelle Start ---\":\n",
    "            inside_table = True\n",
    "            filtered_lines.append(line)\n",
    "        elif stripped == \"--- Tabelle Ende ---\":\n",
    "            inside_table = False\n",
    "            filtered_lines.append(line)\n",
    "        elif inside_table:\n",
    "            filtered_lines.append(line)\n",
    "        # Alles außerhalb der Tabellenbereiche wird ignoriert\n",
    "\n",
    "    # Zweiter Durchgang: Tabellen nummerieren und Endmarkierungen entfernen\n",
    "    final_lines = []\n",
    "    table_count = 0\n",
    "    for line in filtered_lines:\n",
    "        stripped = line.strip()\n",
    "        if stripped == \"--- Tabelle Start ---\":\n",
    "            table_count += 1\n",
    "            final_lines.append(f\"{table_count}. Tabelle\\n\")\n",
    "        elif stripped == \"--- Tabelle Ende ---\":\n",
    "            continue  # Zeile wird entfernt\n",
    "        else:\n",
    "            final_lines.append(line)\n",
    "\n",
    "    # Neuen Dateinamen erstellen\n",
    "    output_filename = input_file.stem + '_tabelle.md'\n",
    "    output_file = table_dir / output_filename\n",
    "\n",
    "    # Gefilterte und umgewandelte Zeilen schreiben\n",
    "    with output_file.open('w', encoding='utf-8') as f:\n",
    "        f.writelines(final_lines)"
   ]
  },
  {
   "cell_type": "markdown",
   "id": "402f02bf",
   "metadata": {},
   "source": [
    "# 3. Datenstruktur für alle Tabellen erstellen\n",
    "\n",
    "- table_data\n",
    "  - continental\n",
    "    - 2023\n",
    "      - 1\n",
    "      - 2\n",
    "    - 2024\n",
    "      - 1\n",
    "  - bmw\n",
    "    - 2023\n",
    "      - 1\n"
   ]
  },
  {
   "cell_type": "code",
   "execution_count": 8,
   "id": "57e92eb4",
   "metadata": {},
   "outputs": [],
   "source": [
    "folder_path = table_dir  # z. B. \"path/to/md/files\"\n",
    "table_data = {}          # Zentraler Speicher für alles\n",
    "\n",
    "def extract_metadata(filename):\n",
    "    parts = filename.split('_')\n",
    "    firm = parts[0].lower()\n",
    "    year = parts[1]\n",
    "    return firm, year\n",
    "\n",
    "for filename in os.listdir(folder_path):\n",
    "    if filename.endswith(\".md\"):\n",
    "        filepath = os.path.join(folder_path, filename)\n",
    "\n",
    "        tables = {}\n",
    "        current_table_number = None\n",
    "        current_table_lines = []\n",
    "\n",
    "        with open(filepath, \"r\", encoding=\"utf-8\") as file:\n",
    "            for line in file:\n",
    "                match = re.match(r\"(\\d+)\\. Tabelle\", line.strip())\n",
    "                if match:\n",
    "                    if current_table_number is not None and current_table_lines:\n",
    "                        tables[current_table_number] = ''.join(current_table_lines).strip()\n",
    "                    current_table_number = int(match.group(1))\n",
    "                    current_table_lines = []\n",
    "                elif current_table_number is not None:\n",
    "                    current_table_lines.append(line)\n",
    "\n",
    "            # Letzte Tabelle hinzufügen\n",
    "            if current_table_number is not None and current_table_lines:\n",
    "                tables[current_table_number] = ''.join(current_table_lines).strip()\n",
    "\n",
    "        # Metadaten extrahieren: Firma & Jahr\n",
    "        firm_name, year = extract_metadata(filename)\n",
    "\n",
    "        # Sicherstellen, dass Verschachtelung existiert\n",
    "        if firm_name not in table_data:\n",
    "            table_data[firm_name] = {}\n",
    "        if year not in table_data[firm_name]:\n",
    "            table_data[firm_name][year] = {}\n",
    "\n",
    "        # Tabellen einfügen\n",
    "        table_data[firm_name][year] = tables"
   ]
  },
  {
   "cell_type": "markdown",
   "id": "9d6ab561",
   "metadata": {},
   "source": [
    "----------\n",
    "\n"
   ]
  },
  {
   "cell_type": "markdown",
   "id": "19aaba70",
   "metadata": {},
   "source": [
    "# Test"
   ]
  },
  {
   "cell_type": "code",
   "execution_count": 11,
   "id": "9f6050b8",
   "metadata": {},
   "outputs": [
    {
     "name": "stdout",
     "output_type": "stream",
     "text": [
      "| Absatz? | 447.790 Fahrzeuge | leicht unter Vorjahresniveau |\n",
      "| --- | --- | --- |\n",
      "| Anteil elektrifizierter Fahrzeuge (xEV)? | 5% | 6-8% |\n",
      "| Umsatz | 20.288 Mio.€ | auf Vorjahresniveau |\n",
      "| Bereinigte Umsatzrendite | 15,1% | 12-14% |\n",
      "| Bereinigte Cash Conversion Rate | 1,0 | 0,6-0,8 |\n",
      "| Sachinvestitionent | 351 Mio.€ | deutlich iiber Vorjahresniveau |\n",
      "| Forschungs- und Entwicklungsleistungen! | 873 Mio.€ | deutlich iiber Vorjahresniveau |\n",
      "| Mercedes-Benz Mobility | | |\n",
      "| Neugeschaft! | 62.014 Mio.€ | leicht iiber Vorjahresniveau |\n",
      "| Vertragsvolumen | 135.027 Mio.€ | auf Vorjahresniveau |\n",
      "| Umsatz | 26.718 Mio. € | auf Vorjahresniveau |\n",
      "| Bereinigte Eigenkapitalrendite! | 12,3% | 10-12% |\n"
     ]
    }
   ],
   "source": [
    "table = table_data['daimler']['2023'][50]\n",
    "print(table)"
   ]
  },
  {
   "cell_type": "code",
   "execution_count": 12,
   "id": "fe59e559",
   "metadata": {},
   "outputs": [
    {
     "data": {
      "text/plain": [
       "'Im betrachteten Absatz wurden 447.790 Fahrzeuge abgesetzt, was leicht unter dem Vorjahresniveau liegt. Der Anteil elektrifizierter Fahrzeuge (xEV) betrug 5%, angestrebt werden 6-8%. Der Umsatz belief sich auf 20.288 Mio.€ und lag damit auf Vorjahresniveau. Die bereinigte Umsatzrendite betrug 15,1%, das Ziel lag bei 12-14%. Die bereinigte Cash Conversion Rate betrug 1,0, angestrebt wurden 0,6-0,8. Die Sachinvestitionen beliefen sich auf 351 Mio.€ und lagen damit deutlich über dem Vorjahresniveau. Forschungs- und Entwicklungsleistungen erreichten 873 Mio.€ und lagen ebenfalls deutlich über dem Vorjahresniveau. Bei Mercedes-Benz Mobility betrug das Neugeschäft 62.014 Mio.€, was leicht über dem Vorjahresniveau liegt. Das Vertragsvolumen lag bei 135.027 Mio.€ und damit auf Vorjahresniveau. Der Umsatz von Mercedes-Benz Mobility betrug 26.718 Mio. € und entsprach dem Vorjahresniveau. Die bereinigte Eigenkapitalrendite erreichte 12,3%, das Ziel lag bei 10-12%.'"
      ]
     },
     "execution_count": 12,
     "metadata": {},
     "output_type": "execute_result"
    }
   ],
   "source": [
    "load_dotenv()\n",
    "llm = ChatGoogleGenerativeAI(model=\"gemini-2.0-flash\", temperature=1,max_tokens=None,google_api_key=os.getenv(\"GOOGLE_API_KEY\"))\n",
    "prompt = f\"\"\"Erstelle zu der untenstehenden Tabelle einen Fließtext, der den Inhalt der Tabelle zusammenfasst.\n",
    "        Verfasse zu jeder Dateneinheit einen eigenen, klar verständlichen Satz.\n",
    "        Jeder Satz soll eigenständig sinnvoll sein, damit der Kontext auch dann erhalten bleibt, wenn man nur einen einzelnen Satz liest.\n",
    "        Verwende kurze und präzise Formulierungen. Antworte nur mit dem Fließtext, ohne zusätzliche Erklärungen oder Einleitungen.\n",
    "\n",
    "        Tabelle:\n",
    "        {table}\n",
    "        \"\"\"\n",
    "\n",
    "response = llm.invoke([HumanMessage(content=prompt)])\n",
    "response.content"
   ]
  },
  {
   "cell_type": "markdown",
   "id": "916c9e95",
   "metadata": {},
   "source": [
    "-------------"
   ]
  },
  {
   "cell_type": "markdown",
   "id": "0d671547",
   "metadata": {},
   "source": [
    "# 4. Durch LLM eine Datei pro Firma-Jahr Kombination erstellen\n",
    "\n",
    "In der jede Tabelle der Firma-jahr Kombination textuell beschrieben ist"
   ]
  },
  {
   "cell_type": "code",
   "execution_count": null,
   "id": "d3390bad",
   "metadata": {},
   "outputs": [],
   "source": [
    "load_dotenv()\n",
    "\n",
    "llm = ChatGoogleGenerativeAI(\n",
    "    model=\"gemini-2.5-flash-lite\",\n",
    "    temperature=1,\n",
    "    max_tokens=None,\n",
    "    google_api_key=os.getenv(\"GOOGLE_API_KEY\")\n",
    ")\n",
    "\n",
    "output_dir = \"data/tabletext\"\n",
    "os.makedirs(output_dir, exist_ok=True)\n",
    "\n",
    "# Neue Struktur: firm -> year -> table_index -> table\n",
    "for firm_name, yearly_tables in table_data.items():\n",
    "    for year, tables in yearly_tables.items():\n",
    "        filename = f\"{firm_name}_{year}_tabletext.md\"\n",
    "        filepath = os.path.join(output_dir, filename)\n",
    "\n",
    "        # Wenn Datei nicht existiert, erstelle sie mit Überschrift\n",
    "        if not os.path.exists(filepath):\n",
    "            with open(filepath, \"w\", encoding=\"utf-8\") as f:\n",
    "                f.write(f\"# Tabelletexte für {firm_name} ({year})\\n\\n\")\n",
    "\n",
    "        # Bestehenden Inhalt einlesen\n",
    "        with open(filepath, \"r\", encoding=\"utf-8\") as f:\n",
    "            existing_content = f.read()\n",
    "\n",
    "        for idx, table in tables.items():\n",
    "            marker = f\"Table_{idx}_text\"\n",
    "\n",
    "            # Wenn Marker schon existiert, überspringen\n",
    "            if re.search(fr\"^{re.escape(marker)}\\s*$\", existing_content, re.MULTILINE):\n",
    "                continue\n",
    "\n",
    "            # Prompt an LLM\n",
    "            prompt = f\"\"\"Erstelle zu der untenstehenden Tabelle einen Fließtext, der den Inhalt der Tabelle zusammenfasst.\n",
    "                    Verfasse zu jeder Dateneinheit einen eigenen, klar verständlichen Satz.\n",
    "                    Jeder Satz soll eigenständig sinnvoll sein, damit der Kontext auch dann erhalten bleibt, wenn man nur einen einzelnen Satz liest.\n",
    "                    Verwende kurze und präzise Formulierungen. Antworte nur mit dem Fließtext, ohne zusätzliche Erklärungen oder Einleitungen.\n",
    "\n",
    "                    Tabelle:\n",
    "                    {table}\n",
    "                    \"\"\"\n",
    "\n",
    "            response = llm.invoke([HumanMessage(content=prompt)])\n",
    "            result_text = response.content.strip()\n",
    "\n",
    "            # An Datei anhängen\n",
    "            with open(filepath, \"a\", encoding=\"utf-8\") as f:\n",
    "                f.write(f\"\\n{marker}\\n{result_text}\\n\")\n",
    "\n",
    "            time.sleep(4.5)  # Rate Limit"
   ]
  },
  {
   "cell_type": "markdown",
   "id": "b03625db",
   "metadata": {},
   "source": [
    "# 5. Dateien mit Tabellenbeschreibungen filtern\n",
    "\n",
    "- table_n_text Einträge entfernen\n",
    "- Leere Zeilen entfernen"
   ]
  },
  {
   "cell_type": "code",
   "execution_count": null,
   "id": "ce20667b",
   "metadata": {},
   "outputs": [],
   "source": [
    "# Pfad zum Verzeichnis mit den .md-Dateien\n",
    "directory = tabletext_dir\n",
    "\n",
    "# Regulärer Ausdruck für Zeilen wie 'table_1_text', 'table_42_text' etc.\n",
    "marker_pattern = re.compile(r\"^table_\\d+_text\\s*$\", re.IGNORECASE)\n",
    "\n",
    "# Alle .md-Dateien im Verzeichnis durchgehen\n",
    "for filename in os.listdir(directory):\n",
    "    if filename.endswith(\".md\"):\n",
    "        filepath = os.path.join(directory, filename)\n",
    "\n",
    "        with open(filepath, \"r\", encoding=\"utf-8\") as f:\n",
    "            lines = f.readlines()\n",
    "\n",
    "        # Nur Zeilen behalten, die weder leer noch ein table_*_text-Marker sind\n",
    "        cleaned_lines = [\n",
    "            line for line in lines\n",
    "            if not marker_pattern.match(line.strip()) and line.strip() != \"\"\n",
    "        ]\n",
    "\n",
    "        # Datei überschreiben mit den bereinigten Zeilen\n",
    "        with open(filepath, \"w\", encoding=\"utf-8\") as f:\n",
    "            f.writelines(cleaned_lines)"
   ]
  },
  {
   "cell_type": "markdown",
   "id": "dd3aa4bb",
   "metadata": {},
   "source": [
    "# 6. Text und Tabletext zu Processed Datei zusammenführen"
   ]
  },
  {
   "cell_type": "code",
   "execution_count": null,
   "id": "9a681b1f",
   "metadata": {},
   "outputs": [],
   "source": [
    "os.makedirs(output_dir, exist_ok=True)\n",
    "\n",
    "# Alle Textdateien im text_dir durchgehen\n",
    "for filename in os.listdir(text_dir):\n",
    "    if filename.endswith(\"_text.md\"):\n",
    "        base = filename.replace(\"_text.md\", \"\")  # z. B. bmw_2023\n",
    "\n",
    "        # Erwarteter Tabellentext-Dateiname\n",
    "        tabletext_filename = f\"{base}_tabletext.md\"\n",
    "        tabletext_path = os.path.join(tabletext_dir, tabletext_filename)\n",
    "        text_path = os.path.join(text_dir, filename)\n",
    "        processed_filename = f\"{base}_processed.md\"\n",
    "        processed_path = os.path.join(output_dir, processed_filename)\n",
    "\n",
    "        # Nur kombinieren, wenn Tabellentext existiert\n",
    "        if not os.path.exists(tabletext_path):\n",
    "            print(f\"Tabellentext fehlt für {base}\")\n",
    "            continue\n",
    "\n",
    "        # Inhalte einlesen\n",
    "        with open(text_path, \"r\", encoding=\"utf-8\") as f:\n",
    "            text_content = f.read()\n",
    "\n",
    "        with open(tabletext_path, \"r\", encoding=\"utf-8\") as f:\n",
    "            tabletext_content = f.read()\n",
    "\n",
    "        # Inhalte kombinieren: erst Text, dann Tabelle\n",
    "        combined_content = text_content.strip() + \"\\n\\n\" + tabletext_content.strip()\n",
    "\n",
    "        # Neue Datei schreiben\n",
    "        with open(processed_path, \"w\", encoding=\"utf-8\") as f:\n",
    "            f.write(combined_content)"
   ]
  }
 ],
 "metadata": {
  "kernelspec": {
   "display_name": "BWLLM_venv",
   "language": "python",
   "name": "python3"
  },
  "language_info": {
   "codemirror_mode": {
    "name": "ipython",
    "version": 3
   },
   "file_extension": ".py",
   "mimetype": "text/x-python",
   "name": "python",
   "nbconvert_exporter": "python",
   "pygments_lexer": "ipython3",
   "version": "3.13.2"
  }
 },
 "nbformat": 4,
 "nbformat_minor": 5
}
