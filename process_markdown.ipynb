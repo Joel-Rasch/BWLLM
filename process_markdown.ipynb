{
 "cells": [
  {
   "cell_type": "code",
   "execution_count": 2,
   "id": "e79c998b",
   "metadata": {},
   "outputs": [],
   "source": [
    "import os\n",
    "from pathlib import Path"
   ]
  },
  {
   "cell_type": "code",
   "execution_count": 3,
   "id": "44ce5efe",
   "metadata": {},
   "outputs": [],
   "source": [
    "# Konfiguration\n",
    "input_dir = Path('data/raw')\n",
    "output_dir = Path('data/processed')\n",
    "min_length = 40"
   ]
  },
  {
   "cell_type": "code",
   "execution_count": null,
   "id": "ab3bac5a",
   "metadata": {},
   "outputs": [],
   "source": [
    "# Alle .md-Dateien im Eingabeordner durchgehen\n",
    "for input_file in input_dir.glob('*.md'):\n",
    "    # Datei einlesen\n",
    "    with input_file.open('r', encoding='utf-8') as f:\n",
    "        lines = f.readlines()\n",
    "\n",
    "    # Zeilen filtern\n",
    "    filtered_lines = []\n",
    "    for line in lines:\n",
    "        stripped = line.strip()\n",
    "        if len(stripped) >= min_length and not stripped.startswith('##'):\n",
    "            filtered_lines.append(line)\n",
    "\n",
    "    # Neuen Dateinamen erstellen\n",
    "    output_filename = input_file.stem + '_filtered.md'\n",
    "    output_file = output_dir / output_filename\n",
    "\n",
    "    # Gefilterte Zeilen schreiben\n",
    "    with output_file.open('w', encoding='utf-8') as f:\n",
    "        f.writelines(filtered_lines)"
   ]
  },
  {
   "cell_type": "code",
   "execution_count": null,
   "id": "e30e3dfd",
   "metadata": {},
   "outputs": [],
   "source": []
  }
 ],
 "metadata": {
  "kernelspec": {
   "display_name": "BWLLM_venv",
   "language": "python",
   "name": "python3"
  },
  "language_info": {
   "codemirror_mode": {
    "name": "ipython",
    "version": 3
   },
   "file_extension": ".py",
   "mimetype": "text/x-python",
   "name": "python",
   "nbconvert_exporter": "python",
   "pygments_lexer": "ipython3",
   "version": "3.13.2"
  }
 },
 "nbformat": 4,
 "nbformat_minor": 5
}
