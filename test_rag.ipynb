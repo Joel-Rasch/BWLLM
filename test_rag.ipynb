{
 "cells": [
  {
   "cell_type": "code",
   "execution_count": 1,
   "id": "e7058c9b",
   "metadata": {},
   "outputs": [],
   "source": [
    "from rag_system import query_faiss_index, rag"
   ]
  },
  {
   "cell_type": "code",
   "execution_count": 12,
   "id": "864ce7f0",
   "metadata": {},
   "outputs": [],
   "source": [
    "question = 'Is Porsche or Mercedes more expensive??'"
   ]
  },
  {
   "cell_type": "code",
   "execution_count": 13,
   "id": "1be54cba",
   "metadata": {},
   "outputs": [],
   "source": [
    "context= query_faiss_index(question)"
   ]
  },
  {
   "cell_type": "code",
   "execution_count": 14,
   "id": "4f31ff03",
   "metadata": {},
   "outputs": [
    {
     "data": {
      "text/plain": [
       "[\"The MB wagon would have to have more power and no peculiar problems\\nsuch as the Passat's electrical system.  She is also considering\\na Saab 9000 (add some letters).  Any comparisons between the 9000\\nline and the Mercedes would be helpful.\\n\\nPrice is not an impediment.\",\n",
       " \"Porsche 911 (boring compared to the rest)\\n\\nTHREE Ferarries, a Mondial, a 308 prepared for racing, and a red 60s model\\nthat I couldn't identify.\\n\\nAnd at the bottom, a late 70s MG convertable.\\n\\nOutside there was a rotting Rover 3500 saloon, which was never regularly\\nsold in the U.S.\",\n",
       " 'as very traditional and conservative.\"\\n \\nI eventually went with the Supra for a number of reasons.  The Porsche\\ndealer had a nice salesman to get me interested, but a tough high-pressure\\nguy in the back room.  At equal monthly payments, it would have taken\\na year longer to pay for the Porsche, plus its higher insurance.  I\\nconcluded that the high insurance was related to probability of auto\\ntheft.\\n \\n   /|/| /||)|/  /~ /\\\\| |\\\\|)[~|)/~   |   Everyone\\'s entitled to MY opinion.']"
      ]
     },
     "execution_count": 14,
     "metadata": {},
     "output_type": "execute_result"
    }
   ],
   "source": [
    "context"
   ]
  },
  {
   "cell_type": "code",
   "execution_count": 15,
   "id": "e2a95d78",
   "metadata": {},
   "outputs": [],
   "source": [
    "response = rag(question)"
   ]
  },
  {
   "cell_type": "code",
   "execution_count": 16,
   "id": "bb50948c",
   "metadata": {},
   "outputs": [
    {
     "data": {
      "text/plain": [
       "'Based on the context, the Porsche would have taken a year longer to pay off at equal monthly payments, plus it had higher insurance.'"
      ]
     },
     "execution_count": 16,
     "metadata": {},
     "output_type": "execute_result"
    }
   ],
   "source": [
    "response.content"
   ]
  },
  {
   "cell_type": "code",
   "execution_count": null,
   "id": "8cdb9535",
   "metadata": {},
   "outputs": [],
   "source": []
  }
 ],
 "metadata": {
  "kernelspec": {
   "display_name": "BWLLM_venv",
   "language": "python",
   "name": "python3"
  },
  "language_info": {
   "codemirror_mode": {
    "name": "ipython",
    "version": 3
   },
   "file_extension": ".py",
   "mimetype": "text/x-python",
   "name": "python",
   "nbconvert_exporter": "python",
   "pygments_lexer": "ipython3",
   "version": "3.13.2"
  }
 },
 "nbformat": 4,
 "nbformat_minor": 5
}
