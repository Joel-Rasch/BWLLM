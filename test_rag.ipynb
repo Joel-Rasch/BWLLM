{
 "cells": [
  {
   "cell_type": "code",
   "execution_count": 3,
   "id": "e7058c9b",
   "metadata": {},
   "outputs": [],
   "source": [
    "from rag_system import query_faiss_index, rag, process_query\n",
    "import variable_loader as loader"
   ]
  },
  {
   "cell_type": "code",
   "execution_count": 4,
   "id": "1df98335",
   "metadata": {},
   "outputs": [],
   "source": [
    "loader.load_variables()"
   ]
  },
  {
   "cell_type": "code",
   "execution_count": 5,
   "id": "864ce7f0",
   "metadata": {},
   "outputs": [],
   "source": [
    "# question = 'Wie viel Umsatz hat BMW 2022 gemacht'\n",
    "# question = 'Wie viel Umsatz hat Continental 2022 gemacht'\n",
    "question = 'Hat BMW 2022 mehr Umsatzerlös gemacht als Continental'"
   ]
  },
  {
   "cell_type": "code",
   "execution_count": 6,
   "id": "5705d039",
   "metadata": {},
   "outputs": [],
   "source": [
    "matched_companies, query_cleaned = process_query(question)"
   ]
  },
  {
   "cell_type": "code",
   "execution_count": 7,
   "id": "7a2609f3",
   "metadata": {},
   "outputs": [
    {
     "data": {
      "text/plain": [
       "'Hat 2022 mehr Umsatzerlös gemacht als'"
      ]
     },
     "execution_count": 7,
     "metadata": {},
     "output_type": "execute_result"
    }
   ],
   "source": [
    "query_cleaned"
   ]
  },
  {
   "cell_type": "code",
   "execution_count": 8,
   "id": "2617c675",
   "metadata": {},
   "outputs": [
    {
     "data": {
      "text/plain": [
       "['bmw', 'continental']"
      ]
     },
     "execution_count": 8,
     "metadata": {},
     "output_type": "execute_result"
    }
   ],
   "source": [
    "matched_companies"
   ]
  },
  {
   "cell_type": "code",
   "execution_count": 9,
   "id": "1be54cba",
   "metadata": {},
   "outputs": [],
   "source": [
    "context= query_faiss_index(query_cleaned, matched_companies)"
   ]
  },
  {
   "cell_type": "code",
   "execution_count": 10,
   "id": "4f31ff03",
   "metadata": {},
   "outputs": [
    {
     "data": {
      "text/plain": [
       "[Document(id='03481b71-7456-4288-9a2c-f957cfad3227', metadata={'company': 'BMW', 'year': '2023', 'chunk': 5515}, page_content='. Dezember 2023 einschließlich der dazugehörigen Angaben geprüft.'),\n",
       " Document(id='d06c9e8e-8856-45f8-9ec1-b745e5070007', metadata={'company': 'BMW', 'year': '2023', 'chunk': 6170}, page_content='Der Umsatzanteil Amerikas betrug 2023 23,9 %, gegenüber 23,6 % im Vorjahr.\\nSonstige Regionen steuerten sowohl 2023 als auch 2022 2,0 % zum Gesamtumsatz bei.'),\n",
       " Document(id='43723577-ebc4-47ef-9146-d73e93cc59dd', metadata={'company': 'BMW', 'year': '2023', 'chunk': 6554}, page_content='Der Umsatz im Automobilbereich 2022 betrug 132277 Mio. €. Die Umsatzkosten betrugen -109920 Mio. €. Das Bruttoergebnis vom Umsatz lag bei 22357 Mio. €'),\n",
       " Document(id='62867eb8-0bb4-446b-9ad3-cd8558533d99', metadata={'company': 'BMW', 'year': '2023', 'chunk': 5362}, page_content='das Erdienungsjahr 2023'),\n",
       " Document(id='3a03a64b-b691-4129-9f49-9b5c80209d7c', metadata={'company': 'BMW', 'year': '2023', 'chunk': 6560}, page_content='Der Umsatz im Automobilbereich 2022 betrug 123602 Mio. €. Die Umsatzkosten betrugen -104324 Mio. €. Das Bruttoergebnis vom Umsatz lag bei 19278 Mio. €'),\n",
       " Document(id='9d04e228-ad10-4a86-9b6a-d4648c056634', metadata={'company': 'Continental', 'year': '2023', 'chunk': 4476}, page_content='Die Umsatzerlöse der Continental AG beliefen sich im Jahr 2023 auf 337,0 Mio. €. Im Vergleich dazu lagen die Umsatzerlöse im Jahr 2022 bei 2778 Mio. €'),\n",
       " Document(id='70dd6dea-2530-4e7e-9213-8091fc5bcdb1', metadata={'company': 'Continental', 'year': '2023', 'chunk': 3958}, page_content='Der bereinigte Umsatz im Automotive-Bereich entsprach 2023 mit 20295,4 Mio. € dem ursprünglichen Umsatz.'),\n",
       " Document(id='0a55f6da-5eb6-420c-8cb9-fb3650a97426', metadata={'company': 'Continental', 'year': '2023', 'chunk': 4166}, page_content='. Im Jahr 2022 lagen die Forschungsund Entwicklungskosten (netto) bei 2762,9 Mio. €, ebenfalls 7,0 % des Umsatzes. Die F&E-Kosten im Bereich Automotive betrugen im Jahr 2023 2384,8 Mio'),\n",
       " Document(id='70702bfe-4c1a-4c81-b292-0e5baa35f416', metadata={'company': 'Continental', 'year': '2023', 'chunk': 4478}, page_content='. Das Bruttoergebnis vom Umsatz erreichte 2023 11,4 Mio. €, nach 10,6 Mio. € im Jahr 2022. Die allgemeinen Verwaltungskosten beliefen sich 2023 auf -213,4 Mio. € und waren 2022 mit -2131 Mio'),\n",
       " Document(id='22e9d367-70ba-4b27-bb4d-df0ee236a423', metadata={'company': 'Continental', 'year': '2023', 'chunk': 4532}, page_content='Die Umsatzerlöse stiegen im Jahr 2023 auf 41420,5 Mio. €, verglichen mit 39408,9 Mio. € im Jahr 2022.')]"
      ]
     },
     "execution_count": 10,
     "metadata": {},
     "output_type": "execute_result"
    }
   ],
   "source": [
    "context"
   ]
  },
  {
   "cell_type": "code",
   "execution_count": 11,
   "id": "e2a95d78",
   "metadata": {},
   "outputs": [],
   "source": [
    "response = rag(question)"
   ]
  },
  {
   "cell_type": "code",
   "execution_count": 12,
   "id": "bb50948c",
   "metadata": {},
   "outputs": [
    {
     "data": {
      "text/plain": [
       "'Ja, BMW hatte 2022 einen höheren Umsatz im Automobilbereich (123602 Mio. € und 132277 Mio. €) als Continental (39408,9 Mio. €).'"
      ]
     },
     "execution_count": 12,
     "metadata": {},
     "output_type": "execute_result"
    }
   ],
   "source": [
    "response.content"
   ]
  },
  {
   "cell_type": "code",
   "execution_count": null,
   "id": "072f3034",
   "metadata": {},
   "outputs": [],
   "source": []
  }
 ],
 "metadata": {
  "kernelspec": {
   "display_name": "BWLLM_venv",
   "language": "python",
   "name": "python3"
  },
  "language_info": {
   "codemirror_mode": {
    "name": "ipython",
    "version": 3
   },
   "file_extension": ".py",
   "mimetype": "text/x-python",
   "name": "python",
   "nbconvert_exporter": "python",
   "pygments_lexer": "ipython3",
   "version": "3.13.2"
  }
 },
 "nbformat": 4,
 "nbformat_minor": 5
}
