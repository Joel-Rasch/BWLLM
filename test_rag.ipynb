{
 "cells": [
  {
   "cell_type": "code",
   "execution_count": null,
   "id": "e7058c9b",
   "metadata": {},
   "outputs": [],
   "source": [
    "from rag_system import query_faiss_index, rag, process_query\n",
    "import variable_loader as loader"
   ]
  },
  {
   "cell_type": "code",
   "execution_count": null,
   "id": "1df98335",
   "metadata": {},
   "outputs": [
    {
     "name": "stderr",
     "output_type": "stream",
     "text": [
      "/Users/yanoothan/Master/Advanced NLP/BWLLM/load_environments.py:15: LangChainDeprecationWarning: The class `HuggingFaceEmbeddings` was deprecated in LangChain 0.2.2 and will be removed in 1.0. An updated version of the class exists in the :class:`~langchain-huggingface package and should be used instead. To use it run `pip install -U :class:`~langchain-huggingface` and import as `from :class:`~langchain_huggingface import HuggingFaceEmbeddings``.\n",
      "  embeddings = HuggingFaceEmbeddings(model_name=model_name)\n",
      "/Users/yanoothan/Master/Advanced NLP/BWLLM/BWLLM_venv/lib/python3.13/site-packages/tqdm/auto.py:21: TqdmWarning: IProgress not found. Please update jupyter and ipywidgets. See https://ipywidgets.readthedocs.io/en/stable/user_install.html\n",
      "  from .autonotebook import tqdm as notebook_tqdm\n"
     ]
    }
   ],
   "source": [
    "loader.load_variables()"
   ]
  },
  {
   "cell_type": "code",
   "execution_count": 3,
   "id": "864ce7f0",
   "metadata": {},
   "outputs": [],
   "source": [
    "# question = 'Wie viel Umsatz hat BMW 2022 gemacht'\n",
    "# question = 'Wie viel Umsatz hat Continental 2022 gemacht'\n",
    "question = 'Hat BMW 2022 mehr Umsatzerlös gemacht als Continental'"
   ]
  },
  {
   "cell_type": "code",
   "execution_count": 4,
   "id": "5705d039",
   "metadata": {},
   "outputs": [],
   "source": [
    "matched_companies, query_cleaned = process_query(question)"
   ]
  },
  {
   "cell_type": "code",
   "execution_count": 5,
   "id": "7a2609f3",
   "metadata": {},
   "outputs": [
    {
     "data": {
      "text/plain": [
       "'Hat 2022 mehr Umsatzerlös gemacht als'"
      ]
     },
     "execution_count": 5,
     "metadata": {},
     "output_type": "execute_result"
    }
   ],
   "source": [
    "query_cleaned"
   ]
  },
  {
   "cell_type": "code",
   "execution_count": 6,
   "id": "2617c675",
   "metadata": {},
   "outputs": [
    {
     "data": {
      "text/plain": [
       "['continental', 'bmw']"
      ]
     },
     "execution_count": 6,
     "metadata": {},
     "output_type": "execute_result"
    }
   ],
   "source": [
    "matched_companies"
   ]
  },
  {
   "cell_type": "code",
   "execution_count": 7,
   "id": "1be54cba",
   "metadata": {},
   "outputs": [],
   "source": [
    "context= query_faiss_index(query_cleaned, matched_companies)"
   ]
  },
  {
   "cell_type": "code",
   "execution_count": 8,
   "id": "4f31ff03",
   "metadata": {},
   "outputs": [
    {
     "data": {
      "text/plain": [
       "[Document(id='9ef871ad-9585-4ef1-af41-f10ba7a8715e', metadata={'company': 'Continental', 'year': '2023', 'chunk': 4476}, page_content='Die Umsatzerlöse der Continental AG beliefen sich im Jahr 2023 auf 337,0 Mio. €. Im Vergleich dazu lagen die Umsatzerlöse im Jahr 2022 bei 2778 Mio. €'),\n",
       " Document(id='c75475e1-1880-4e5d-9fa8-af618fb5645d', metadata={'company': 'Continental', 'year': '2023', 'chunk': 3958}, page_content='Der bereinigte Umsatz im Automotive-Bereich entsprach 2023 mit 20295,4 Mio. € dem ursprünglichen Umsatz.'),\n",
       " Document(id='a01addf6-2f8f-4968-ac6d-472183c556f2', metadata={'company': 'Continental', 'year': '2023', 'chunk': 4166}, page_content='. Im Jahr 2022 lagen die Forschungsund Entwicklungskosten (netto) bei 2762,9 Mio. €, ebenfalls 7,0 % des Umsatzes. Die F&E-Kosten im Bereich Automotive betrugen im Jahr 2023 2384,8 Mio'),\n",
       " Document(id='00e1295e-8954-4bc9-8139-d65ae9b6d9e9', metadata={'company': 'Continental', 'year': '2023', 'chunk': 4478}, page_content='. Das Bruttoergebnis vom Umsatz erreichte 2023 11,4 Mio. €, nach 10,6 Mio. € im Jahr 2022. Die allgemeinen Verwaltungskosten beliefen sich 2023 auf -213,4 Mio. € und waren 2022 mit -2131 Mio'),\n",
       " Document(id='89d1b395-8792-4dea-912a-9b36eb7051d3', metadata={'company': 'Continental', 'year': '2023', 'chunk': 4532}, page_content='Die Umsatzerlöse stiegen im Jahr 2023 auf 41420,5 Mio. €, verglichen mit 39408,9 Mio. € im Jahr 2022.'),\n",
       " Document(id='97789fb9-7e4f-4627-9b23-15a9c55b98fe', metadata={'company': 'BMW', 'year': '2023', 'chunk': 5515}, page_content='. Dezember 2023 einschließlich der dazugehörigen Angaben geprüft.'),\n",
       " Document(id='6b7748e7-5019-45bf-9e80-651d8e450f5b', metadata={'company': 'BMW', 'year': '2023', 'chunk': 6170}, page_content='Der Umsatzanteil Amerikas betrug 2023 23,9 %, gegenüber 23,6 % im Vorjahr.\\nSonstige Regionen steuerten sowohl 2023 als auch 2022 2,0 % zum Gesamtumsatz bei.'),\n",
       " Document(id='f34d1fd6-9145-43be-91b0-0db06cc58a32', metadata={'company': 'BMW', 'year': '2023', 'chunk': 6554}, page_content='Der Umsatz im Automobilbereich 2022 betrug 132277 Mio. €. Die Umsatzkosten betrugen -109920 Mio. €. Das Bruttoergebnis vom Umsatz lag bei 22357 Mio. €'),\n",
       " Document(id='d0097dd2-5ef6-4c45-8d1b-914e88e2c48b', metadata={'company': 'BMW', 'year': '2023', 'chunk': 5362}, page_content='das Erdienungsjahr 2023'),\n",
       " Document(id='18ff1cdd-8fc4-4d37-b08c-77a1a4543da0', metadata={'company': 'BMW', 'year': '2023', 'chunk': 6560}, page_content='Der Umsatz im Automobilbereich 2022 betrug 123602 Mio. €. Die Umsatzkosten betrugen -104324 Mio. €. Das Bruttoergebnis vom Umsatz lag bei 19278 Mio. €')]"
      ]
     },
     "execution_count": 8,
     "metadata": {},
     "output_type": "execute_result"
    }
   ],
   "source": [
    "context"
   ]
  },
  {
   "cell_type": "code",
   "execution_count": 9,
   "id": "e2a95d78",
   "metadata": {},
   "outputs": [],
   "source": [
    "response = rag(question)"
   ]
  },
  {
   "cell_type": "code",
   "execution_count": 10,
   "id": "bb50948c",
   "metadata": {},
   "outputs": [
    {
     "data": {
      "text/plain": [
       "'Ja, BMW hatte 2022 einen höheren Umsatz im Automobilbereich (123602 Mio. €) als Continental (39408,9 Mio. €).'"
      ]
     },
     "execution_count": 10,
     "metadata": {},
     "output_type": "execute_result"
    }
   ],
   "source": [
    "response.content"
   ]
  },
  {
   "cell_type": "code",
   "execution_count": null,
   "id": "072f3034",
   "metadata": {},
   "outputs": [],
   "source": []
  }
 ],
 "metadata": {
  "kernelspec": {
   "display_name": "BWLLM_venv",
   "language": "python",
   "name": "python3"
  },
  "language_info": {
   "codemirror_mode": {
    "name": "ipython",
    "version": 3
   },
   "file_extension": ".py",
   "mimetype": "text/x-python",
   "name": "python",
   "nbconvert_exporter": "python",
   "pygments_lexer": "ipython3",
   "version": "3.13.2"
  }
 },
 "nbformat": 4,
 "nbformat_minor": 5
}
