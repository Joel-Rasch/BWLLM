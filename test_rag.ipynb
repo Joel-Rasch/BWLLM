{
 "cells": [
  {
   "cell_type": "code",
   "execution_count": 1,
   "id": "e7058c9b",
   "metadata": {},
   "outputs": [],
   "source": [
    "from rag_system import query_faiss_index, rag, process_query"
   ]
  },
  {
   "cell_type": "code",
   "execution_count": 10,
   "id": "864ce7f0",
   "metadata": {},
   "outputs": [],
   "source": [
    "question = 'Wie viel Umsatz hat Daimler gemacht'\n",
    "# question = 'Wie viel Umsatz hat Daimler gemacht'\n",
    "# question = 'Hat BMW 2023 mehr Umsatz gemacht als Daimler'"
   ]
  },
  {
   "cell_type": "code",
   "execution_count": 11,
   "id": "5705d039",
   "metadata": {},
   "outputs": [],
   "source": [
    "matched_companies, query_cleaned = process_query(question)"
   ]
  },
  {
   "cell_type": "code",
   "execution_count": 12,
   "id": "7a2609f3",
   "metadata": {},
   "outputs": [
    {
     "data": {
      "text/plain": [
       "'Umsatz'"
      ]
     },
     "execution_count": 12,
     "metadata": {},
     "output_type": "execute_result"
    }
   ],
   "source": [
    "query_cleaned"
   ]
  },
  {
   "cell_type": "code",
   "execution_count": 13,
   "id": "2617c675",
   "metadata": {},
   "outputs": [
    {
     "data": {
      "text/plain": [
       "['daimler']"
      ]
     },
     "execution_count": 13,
     "metadata": {},
     "output_type": "execute_result"
    }
   ],
   "source": [
    "matched_companies"
   ]
  },
  {
   "cell_type": "code",
   "execution_count": 14,
   "id": "1be54cba",
   "metadata": {},
   "outputs": [],
   "source": [
    "context= query_faiss_index(query_cleaned, matched_companies)"
   ]
  },
  {
   "cell_type": "code",
   "execution_count": 15,
   "id": "4f31ff03",
   "metadata": {},
   "outputs": [
    {
     "data": {
      "text/plain": [
       "[Document(id='6d662d2f-4017-4def-b712-abf00b817738', metadata={'company': 'Daimler', 'year': '2023', 'chunk': 4042}, page_content='Umsetzung'),\n",
       " Document(id='b2bc1929-136b-4880-9233-feeb22eb25cb', metadata={'company': 'Daimler', 'year': '2023', 'chunk': 889}, page_content='. Im Vorjahr waren die Umsatzkosten durch Aufwendungen'),\n",
       " Document(id='baead106-cd27-49f2-8471-8a1ddab00e27', metadata={'company': 'Daimler', 'year': '2023', 'chunk': 4616}, page_content='Umsatzerlöse realisiert'),\n",
       " Document(id='703abf5b-c061-4756-89cc-a40b3dcefd01', metadata={'company': 'Daimler', 'year': '2023', 'chunk': 1535}, page_content='umzusetzen'),\n",
       " Document(id='f1c0c334-394e-42b8-9340-1fd24de232dd', metadata={'company': 'Daimler', 'year': '2023', 'chunk': 2656}, page_content='. Bei weiteren Umsatzbestandtei- len, insbesondere bei Umsätzen aus dem Ersatzteilge- schäft, aus Service- und Wartungsverträgen oder der Zuordnung mengenabhängiger Rabatte, ist eine Zuwei- sung zu')]"
      ]
     },
     "execution_count": 15,
     "metadata": {},
     "output_type": "execute_result"
    }
   ],
   "source": [
    "context"
   ]
  },
  {
   "cell_type": "code",
   "execution_count": 16,
   "id": "e2a95d78",
   "metadata": {},
   "outputs": [],
   "source": [
    "response = rag(question)"
   ]
  },
  {
   "cell_type": "code",
   "execution_count": 17,
   "id": "bb50948c",
   "metadata": {},
   "outputs": [
    {
     "data": {
      "text/plain": [
       "'Umsatzerlöse realisiert'"
      ]
     },
     "execution_count": 17,
     "metadata": {},
     "output_type": "execute_result"
    }
   ],
   "source": [
    "response.content"
   ]
  }
 ],
 "metadata": {
  "kernelspec": {
   "display_name": "BWLLM_venv",
   "language": "python",
   "name": "python3"
  },
  "language_info": {
   "codemirror_mode": {
    "name": "ipython",
    "version": 3
   },
   "file_extension": ".py",
   "mimetype": "text/x-python",
   "name": "python",
   "nbconvert_exporter": "python",
   "pygments_lexer": "ipython3",
   "version": "3.13.2"
  }
 },
 "nbformat": 4,
 "nbformat_minor": 5
}
