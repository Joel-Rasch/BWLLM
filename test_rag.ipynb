{
 "cells": [
  {
   "cell_type": "code",
   "execution_count": 11,
   "id": "e7058c9b",
   "metadata": {},
   "outputs": [],
   "source": [
    "from rag_system import query_faiss_index, rag, get_company"
   ]
  },
  {
   "cell_type": "code",
   "execution_count": 28,
   "id": "864ce7f0",
   "metadata": {},
   "outputs": [],
   "source": [
    "question = 'Wie belief sich der Konzernumsatz von BMW'"
   ]
  },
  {
   "cell_type": "code",
   "execution_count": 29,
   "id": "5705d039",
   "metadata": {},
   "outputs": [],
   "source": [
    "org_query, clean_query, company = get_company(question)"
   ]
  },
  {
   "cell_type": "code",
   "execution_count": 30,
   "id": "7a2609f3",
   "metadata": {},
   "outputs": [
    {
     "data": {
      "text/plain": [
       "'Wie belief sich der Konzernumsatz von BMW'"
      ]
     },
     "execution_count": 30,
     "metadata": {},
     "output_type": "execute_result"
    }
   ],
   "source": [
    "org_query"
   ]
  },
  {
   "cell_type": "code",
   "execution_count": 31,
   "id": "2617c675",
   "metadata": {},
   "outputs": [
    {
     "data": {
      "text/plain": [
       "'Wie belief sich der Konzernumsatz von'"
      ]
     },
     "execution_count": 31,
     "metadata": {},
     "output_type": "execute_result"
    }
   ],
   "source": [
    "clean_query"
   ]
  },
  {
   "cell_type": "code",
   "execution_count": 32,
   "id": "c0e36e37",
   "metadata": {},
   "outputs": [
    {
     "data": {
      "text/plain": [
       "'bmw'"
      ]
     },
     "execution_count": 32,
     "metadata": {},
     "output_type": "execute_result"
    }
   ],
   "source": [
    "company"
   ]
  },
  {
   "cell_type": "code",
   "execution_count": 33,
   "id": "1be54cba",
   "metadata": {},
   "outputs": [],
   "source": [
    "context= query_faiss_index(clean_query, company)"
   ]
  },
  {
   "cell_type": "code",
   "execution_count": 34,
   "id": "4f31ff03",
   "metadata": {},
   "outputs": [
    {
     "data": {
      "text/plain": [
       "[Document(id='5b7eb0e9-2181-43f4-8c77-8c3f9cb1de6d', metadata={'company': 'BMW', 'year': '2023', 'chunk': 2341}, page_content='. Von dort sollen die deutschen Fahrzeugwerke beliefert werden.'),\n",
       " Document(id='19046c53-fc57-4856-a58d-3202baa1362e', metadata={'company': 'BMW', 'year': '2023', 'chunk': 6878}, page_content='Umsatzrendite nach Steuern Verhältnis des Konzernüberschusses zu den Konzernumsatzer- lösen.'),\n",
       " Document(id='d304b31c-5ecf-44b5-8ca8-c59c89180632', metadata={'company': 'BMW', 'year': '2023', 'chunk': 6926}, page_content='Der Konzernumsatz belief sich auf 155498 Millionen Euro (+9,0 %), das Konzernergebnis vor Steuern lag bei 17096 Millionen Euro (–27,2 %)'),\n",
       " Document(id='f8402928-3798-4d28-a0ba-08ca3cf38c06', metadata={'company': 'BMW', 'year': '2023', 'chunk': 6928}, page_content='. Die Steuerquote lag bei 28,8 Prozent. Der Konzernjahresüberschuss belief sich auf 12165 Millionen Euro.'),\n",
       " Document(id='59e6ff1b-6dd8-4ef0-8d8e-1305378a3d76', metadata={'company': 'BMW', 'year': '2023', 'chunk': 6568}, page_content='Offenlegung der Kennzahlen und Ziele, mit denen relevante klimabedingte Risiken und Chancen bewertet und gemanagt werden, sofern diese Informationen wesentlich sind.'),\n",
       " Document(id='96bfabb6-b710-4fdb-b916-727c3272717b', metadata={'company': 'BMW', 'year': '2023', 'chunk': 5450}, page_content='Konzernabschlusses, der den IFRS, wie sie in der EU anzu- wenden sind, und den ergänzend nach § 315e Abs'),\n",
       " Document(id='ad6e86b2-5c24-4c59-9422-2dcf498047e6', metadata={'company': 'BMW', 'year': '2023', 'chunk': 5506}, page_content='Konzernlagebericht abzugeben')]"
      ]
     },
     "execution_count": 34,
     "metadata": {},
     "output_type": "execute_result"
    }
   ],
   "source": [
    "context"
   ]
  },
  {
   "cell_type": "code",
   "execution_count": 35,
   "id": "e2a95d78",
   "metadata": {},
   "outputs": [],
   "source": [
    "response = rag(question)"
   ]
  },
  {
   "cell_type": "code",
   "execution_count": 36,
   "id": "bb50948c",
   "metadata": {},
   "outputs": [
    {
     "data": {
      "text/plain": [
       "'Der Konzernumsatz belief sich auf 155498 Millionen Euro.'"
      ]
     },
     "execution_count": 36,
     "metadata": {},
     "output_type": "execute_result"
    }
   ],
   "source": [
    "response.content"
   ]
  },
  {
   "cell_type": "code",
   "execution_count": null,
   "id": "fcef4bad",
   "metadata": {},
   "outputs": [],
   "source": []
  }
 ],
 "metadata": {
  "kernelspec": {
   "display_name": "BWLLM_venv",
   "language": "python",
   "name": "python3"
  },
  "language_info": {
   "codemirror_mode": {
    "name": "ipython",
    "version": 3
   },
   "file_extension": ".py",
   "mimetype": "text/x-python",
   "name": "python",
   "nbconvert_exporter": "python",
   "pygments_lexer": "ipython3",
   "version": "3.13.2"
  }
 },
 "nbformat": 4,
 "nbformat_minor": 5
}
