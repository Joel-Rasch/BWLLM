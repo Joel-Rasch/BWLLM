{
 "cells": [
  {
   "cell_type": "code",
   "execution_count": 5,
   "id": "e7058c9b",
   "metadata": {},
   "outputs": [],
   "source": [
    "from rag_system import query_faiss_index, rag, get_company"
   ]
  },
  {
   "cell_type": "code",
   "execution_count": 15,
   "id": "864ce7f0",
   "metadata": {},
   "outputs": [],
   "source": [
    "question = 'Investiert Daimler in Nachhaltigkeit'"
   ]
  },
  {
   "cell_type": "code",
   "execution_count": 16,
   "id": "5705d039",
   "metadata": {},
   "outputs": [],
   "source": [
    "org_query, clean_query, company = get_company(question)"
   ]
  },
  {
   "cell_type": "code",
   "execution_count": 17,
   "id": "7a2609f3",
   "metadata": {},
   "outputs": [
    {
     "data": {
      "text/plain": [
       "'Investiert Daimler in Nachhaltigkeit'"
      ]
     },
     "execution_count": 17,
     "metadata": {},
     "output_type": "execute_result"
    }
   ],
   "source": [
    "org_query"
   ]
  },
  {
   "cell_type": "code",
   "execution_count": 18,
   "id": "2617c675",
   "metadata": {},
   "outputs": [
    {
     "data": {
      "text/plain": [
       "'Investiert in Nachhaltigkeit'"
      ]
     },
     "execution_count": 18,
     "metadata": {},
     "output_type": "execute_result"
    }
   ],
   "source": [
    "clean_query"
   ]
  },
  {
   "cell_type": "code",
   "execution_count": 19,
   "id": "c0e36e37",
   "metadata": {},
   "outputs": [
    {
     "data": {
      "text/plain": [
       "'daimler'"
      ]
     },
     "execution_count": 19,
     "metadata": {},
     "output_type": "execute_result"
    }
   ],
   "source": [
    "company"
   ]
  },
  {
   "cell_type": "code",
   "execution_count": 20,
   "id": "1be54cba",
   "metadata": {},
   "outputs": [],
   "source": [
    "context= query_faiss_index(clean_query, company)"
   ]
  },
  {
   "cell_type": "code",
   "execution_count": 22,
   "id": "4f31ff03",
   "metadata": {},
   "outputs": [
    {
     "data": {
      "text/plain": [
       "[Document(id='7de6a3f9-cbe1-4eab-8e7b-59a634a94699', metadata={'company': 'Daimler', 'year': '2023', 'chunk': 2494}, page_content='nachhaltige Investitionen'),\n",
       " Document(id='aaa289e2-ab2b-446d-8b46-4623c667bc2d', metadata={'company': 'Daimler', 'year': '2023', 'chunk': 1488}, page_content='Chancen aus nachhaltigen Entwicklungen sowie die angemessene Berücksichtigung von Nachhaltigkeitsrisiken'),\n",
       " Document(id='63a750f2-a6e1-4f87-a27f-0336208b2e0e', metadata={'company': 'Daimler', 'year': '2023', 'chunk': 4490}, page_content='nachhaltige Finanzen'),\n",
       " Document(id='711e9085-8912-4d3f-a69b-38a368ed4c69', metadata={'company': 'Daimler', 'year': '2023', 'chunk': 1490}, page_content='Investmentprozess. Darüber hinaus werden mit nach- haltigen Investments verbundene Risiko- und Rendite- aspekte berücksichtigt'),\n",
       " Document(id='a87b97db-8b3b-40be-870f-f4ccc9fa7b68', metadata={'company': 'Daimler', 'year': '2023', 'chunk': 4138}, page_content='. Dies schließt fundierte Kennt- nisse der Nachhaltigkeitsberichterstattung und ihrer Prüfung ein'),\n",
       " Document(id='2e07e46a-56ff-4019-b4a6-6e0d206d8f0e', metadata={'company': 'Daimler', 'year': '2023', 'chunk': 1492}, page_content='. Anhand einer Negativliste sollen Investments in Unter- nehmen und Ländern ausgeschlossen werden, die die konzerneigenen Kernanforderungen nicht erfüllen'),\n",
       " Document(id='446dfc40-f92b-4de9-9005-4814015a65e6', metadata={'company': 'Daimler', 'year': '2023', 'chunk': 2189}, page_content='Ein Impulsgeber für die Nachhaltigkeitsarbeit des Kon- zerns ist auch der Beirat für Integrität und Nachhaltig- keit')]"
      ]
     },
     "execution_count": 22,
     "metadata": {},
     "output_type": "execute_result"
    }
   ],
   "source": [
    "context"
   ]
  },
  {
   "cell_type": "code",
   "execution_count": 23,
   "id": "e2a95d78",
   "metadata": {},
   "outputs": [],
   "source": [
    "response = rag(question)"
   ]
  },
  {
   "cell_type": "code",
   "execution_count": 24,
   "id": "bb50948c",
   "metadata": {},
   "outputs": [
    {
     "data": {
      "text/plain": [
       "'Ja, mit nachhaltigen Investments und nachhaltigen Finanzen.'"
      ]
     },
     "execution_count": 24,
     "metadata": {},
     "output_type": "execute_result"
    }
   ],
   "source": [
    "response.content"
   ]
  },
  {
   "cell_type": "code",
   "execution_count": null,
   "id": "8131cec0",
   "metadata": {},
   "outputs": [],
   "source": []
  }
 ],
 "metadata": {
  "kernelspec": {
   "display_name": "BWLLM_venv",
   "language": "python",
   "name": "python3"
  },
  "language_info": {
   "codemirror_mode": {
    "name": "ipython",
    "version": 3
   },
   "file_extension": ".py",
   "mimetype": "text/x-python",
   "name": "python",
   "nbconvert_exporter": "python",
   "pygments_lexer": "ipython3",
   "version": "3.13.2"
  }
 },
 "nbformat": 4,
 "nbformat_minor": 5
}
