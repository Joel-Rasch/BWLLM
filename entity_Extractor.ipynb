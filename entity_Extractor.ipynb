{
 "cells": [
  {
   "cell_type": "code",
   "execution_count": 13,
   "id": "b0956cc0",
   "metadata": {},
   "outputs": [
    {
     "name": "stdout",
     "output_type": "stream",
     "text": [
      "'WAs ist der Umsatz von Continental im jahr 2023' -> Continental Umsatz\n",
      "'Wie ist der Ebit von BMW im jahr 2033' -> BMW Ebit BMW im jahr 2033\n"
     ]
    }
   ],
   "source": [
    "import spacy\n",
    "from typing import List\n",
    "\n",
    "# Load German spaCy model (install with: python -m spacy download de_core_news_sm)\n",
    "nlp = spacy.load(\"de_core_news_sm\")\n",
    "\n",
    "def extract_entities(question: str) -> List[str]:\n",
    "    \"\"\"Extract entities from German question using spaCy\"\"\"\n",
    "    \n",
    "    doc = nlp(question)\n",
    "    entities = []\n",
    "    \n",
    "    # Extract named entities\n",
    "    for ent in doc.ents:\n",
    "        entities.append(ent.text)\n",
    "    \n",
    "    # Extract important nouns and proper nouns\n",
    "    for token in doc:\n",
    "        if token.pos_ in ['NOUN', 'PROPN'] and not token.is_stop and len(token.text) > 2:\n",
    "            entities.append(token.lemma_)\n",
    "    \n",
    "    return ' '.join(list(set(entities)))  # Remove duplicates\n",
    "\n",
    "# Example usage\n",
    "if __name__ == \"__main__\":\n",
    "    questions = [\n",
    "        \"WAs ist der Umsatz von Continental im jahr 2023\",\n",
    "        \"Wie ist der Ebit von BMW im jahr 2033\"\n",
    "    ]\n",
    "    \n",
    "    for q in questions:\n",
    "        print(f\"'{q}' -> {extract_entities(q)}\")"
   ]
  },
  {
   "cell_type": "code",
   "execution_count": 14,
   "id": "ada87918",
   "metadata": {},
   "outputs": [
    {
     "data": {
      "text/plain": [
       "'BMW Ebit BMW im jahr 2033'"
      ]
     },
     "execution_count": 14,
     "metadata": {},
     "output_type": "execute_result"
    }
   ],
   "source": [
    "extract_entities('Wie ist der Ebit von BMW im jahr 2033')"
   ]
  }
 ],
 "metadata": {
  "kernelspec": {
   "display_name": "Python 3",
   "language": "python",
   "name": "python3"
  },
  "language_info": {
   "codemirror_mode": {
    "name": "ipython",
    "version": 3
   },
   "file_extension": ".py",
   "mimetype": "text/x-python",
   "name": "python",
   "nbconvert_exporter": "python",
   "pygments_lexer": "ipython3",
   "version": "3.10.11"
  }
 },
 "nbformat": 4,
 "nbformat_minor": 5
}
