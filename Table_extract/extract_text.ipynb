{
 "cells": [
  {
   "cell_type": "code",
   "execution_count": 1,
   "id": "9921bdfb",
   "metadata": {},
   "outputs": [],
   "source": [
    "import os\n",
    "from pathlib import Path"
   ]
  },
  {
   "cell_type": "code",
   "execution_count": 2,
   "id": "934a4c34",
   "metadata": {},
   "outputs": [],
   "source": [
    "# Dateipfade festlegen\n",
    "input_file = 'BMW_2023.md'\n",
    "output_file = 'BMW_2023_text.md'\n",
    "min_length = 40"
   ]
  },
  {
   "cell_type": "code",
   "execution_count": 3,
   "id": "6c2559b7",
   "metadata": {},
   "outputs": [],
   "source": [
    "# Datei einlesen\n",
    "with open(input_file, 'r', encoding='utf-8') as f:\n",
    "    lines = f.readlines()"
   ]
  },
  {
   "cell_type": "code",
   "execution_count": 4,
   "id": "7442b896",
   "metadata": {},
   "outputs": [],
   "source": [
    "# Zeilen filtern\n",
    "filtered_lines = []\n",
    "for line in lines:\n",
    "    stripped = line.strip()\n",
    "    # Prüfen, ob die Zeile ausgeschlossen werden soll\n",
    "    if len(stripped) >= min_length and not stripped.startswith('##'):\n",
    "        filtered_lines.append(line)"
   ]
  },
  {
   "cell_type": "code",
   "execution_count": 5,
   "id": "535556bc",
   "metadata": {},
   "outputs": [],
   "source": [
    "# Gefilterte Zeilen schreiben\n",
    "with open(output_file, 'w', encoding='utf-8') as f:\n",
    "    f.writelines(filtered_lines)"
   ]
  },
  {
   "cell_type": "code",
   "execution_count": null,
   "id": "3c5d07b2",
   "metadata": {},
   "outputs": [],
   "source": []
  }
 ],
 "metadata": {
  "kernelspec": {
   "display_name": "BWLLM_venv",
   "language": "python",
   "name": "python3"
  },
  "language_info": {
   "codemirror_mode": {
    "name": "ipython",
    "version": 3
   },
   "file_extension": ".py",
   "mimetype": "text/x-python",
   "name": "python",
   "nbconvert_exporter": "python",
   "pygments_lexer": "ipython3",
   "version": "3.13.2"
  }
 },
 "nbformat": 4,
 "nbformat_minor": 5
}
