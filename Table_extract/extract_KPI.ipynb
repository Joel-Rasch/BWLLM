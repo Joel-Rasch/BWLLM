{
 "cells": [
  {
   "cell_type": "code",
   "execution_count": 29,
   "id": "6d34264f",
   "metadata": {},
   "outputs": [],
   "source": [
    "import os\n",
    "from pathlib import Path"
   ]
  },
  {
   "cell_type": "code",
   "execution_count": 30,
   "id": "72788f0c",
   "metadata": {},
   "outputs": [],
   "source": [
    "# Dateipfade festlegen\n",
    "input_file = 'BMW_2023.md'\n",
    "output_file = 'BMW_2023_KPI.md'\n",
    "min_length = 40"
   ]
  },
  {
   "cell_type": "code",
   "execution_count": 31,
   "id": "be65e4fa",
   "metadata": {},
   "outputs": [],
   "source": [
    "# Datei einlesen\n",
    "with open(input_file, 'r', encoding='utf-8') as f:\n",
    "    lines = f.readlines()"
   ]
  },
  {
   "cell_type": "code",
   "execution_count": 32,
   "id": "0faf610d",
   "metadata": {},
   "outputs": [],
   "source": [
    "# Liste der auszuschließenden Phrasen (Groß-/Kleinschreibung ignorieren)\n",
    "exclude_phrases = [\n",
    "    \"BMW Group Bericht 2023\",\n",
    "    \"An unsere Stakeholder\",\n",
    "    \"Zusammengefasster Lagebericht\",\n",
    "    \"Konzernabschluss\",\n",
    "    \"Bilanzeid und Vermerke des Prüfers\",\n",
    "    \"Vergütungsbericht\",\n",
    "    \"Weitere Informationen\"\n",
    "]"
   ]
  },
  {
   "cell_type": "code",
   "execution_count": 33,
   "id": "8e15c361",
   "metadata": {},
   "outputs": [],
   "source": [
    "# Zeilen filtern\n",
    "filtered_lines = []\n",
    "for line in lines:\n",
    "    stripped = line.strip()\n",
    "    # Prüfen, ob die Zeile ausgeschlossen werden soll\n",
    "    if(\n",
    "        stripped\n",
    "        and len(stripped) <= min_length\n",
    "        and not any(phrase.lower() in stripped.lower() for phrase in exclude_phrases)\n",
    "    ):\n",
    "        filtered_lines.append(line)"
   ]
  },
  {
   "cell_type": "code",
   "execution_count": 34,
   "id": "0b94e241",
   "metadata": {},
   "outputs": [],
   "source": [
    "# Gefilterte Zeilen schreiben\n",
    "with open(output_file, 'w', encoding='utf-8') as f:\n",
    "    f.writelines(filtered_lines)"
   ]
  }
 ],
 "metadata": {
  "kernelspec": {
   "display_name": "BWLLM_venv",
   "language": "python",
   "name": "python3"
  },
  "language_info": {
   "codemirror_mode": {
    "name": "ipython",
    "version": 3
   },
   "file_extension": ".py",
   "mimetype": "text/x-python",
   "name": "python",
   "nbconvert_exporter": "python",
   "pygments_lexer": "ipython3",
   "version": "3.13.2"
  }
 },
 "nbformat": 4,
 "nbformat_minor": 5
}
