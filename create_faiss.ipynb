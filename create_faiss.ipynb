{
 "cells": [
  {
   "cell_type": "code",
   "execution_count": 1,
   "id": "7b557eb5",
   "metadata": {},
   "outputs": [],
   "source": [
    "import os\n",
    "import re\n",
    "from pathlib import Path\n",
    "from langchain_community.embeddings import HuggingFaceEmbeddings\n",
    "from langchain_community.vectorstores import FAISS\n",
    "from langchain.text_splitter import RecursiveCharacterTextSplitter\n",
    "from langchain.schema import Document"
   ]
  },
  {
   "cell_type": "code",
   "execution_count": 2,
   "id": "f9c49403",
   "metadata": {},
   "outputs": [],
   "source": [
    "# Parameter\n",
    "input_dir = Path(\"data/processed\")\n",
    "chunk_size = 200\n",
    "chunk_overlap = 0\n",
    "index_path = \"faiss_index\"\n",
    "model_name = \"sentence-transformers/all-MiniLM-L6-v2\""
   ]
  },
  {
   "cell_type": "code",
   "execution_count": 3,
   "id": "ca2e9760",
   "metadata": {},
   "outputs": [],
   "source": [
    "# Text splitter konfigurieren\n",
    "text_splitter = RecursiveCharacterTextSplitter(\n",
    "    chunk_size=chunk_size,\n",
    "    chunk_overlap=chunk_overlap,\n",
    "    separators=[\"\\n\\n\", \"\\n\", \".\"]\n",
    ")"
   ]
  },
  {
   "cell_type": "code",
   "execution_count": 4,
   "id": "3bada00a",
   "metadata": {},
   "outputs": [],
   "source": [
    "# Alle Dokumente sammeln\n",
    "all_documents = []\n",
    "\n",
    "for md_file in input_dir.glob(\"*.md\"):\n",
    "\n",
    "    # Dateiname analysieren\n",
    "    filename = md_file.stem  # z. B. \"bmw_2023_filtered\"\n",
    "    parts = filename.split(\"_\")  # → [\"bmw\", \"2023\", \"filtered\"]\n",
    "\n",
    "    # Metadaten extrahieren\n",
    "    company = parts[0]\n",
    "    year = parts[1]\n",
    "\n",
    "    with md_file.open(\"r\", encoding=\"utf-8\") as f:\n",
    "        text = f.read()\n",
    "\n",
    "    text = text.replace('\\u202f', ' ') # Filter 1: Unicode entfernen\n",
    "    text = re.sub(r'(?<=\\d)\\.(?=\\d)', '', text) # Filter 2: Entferne Punkte zwischen zwei Ziffern (z. B. 1.234 → 1234)\n",
    "    text = re.sub(r'(?<=\\w)-\\s(?=\\w)', '', text) # Filter 3: Entferne Trennung mit - Leerzeichen (Kon- zern → Konzern)\n",
    "\n",
    "    chunks = text_splitter.split_text(text)\n",
    "    \n",
    "    for i, chunk in enumerate(chunks):\n",
    "        all_documents.append(Document(\n",
    "            page_content=chunk,\n",
    "            metadata={\"company\": company, \"year\": year, \"chunk\": i}\n",
    "        ))"
   ]
  },
  {
   "cell_type": "code",
   "execution_count": 5,
   "id": "738f2b85",
   "metadata": {},
   "outputs": [
    {
     "data": {
      "text/plain": [
       "[Document(metadata={'company': 'BMW', 'year': '2023', 'chunk': 0}, page_content='Auf dem Weg zur elektrischen und digitalisierten Mobilität in einer nachhaltigen Kreislaufwirtschaft'),\n",
       " Document(metadata={'company': 'BMW', 'year': '2023', 'chunk': 1}, page_content='. Bericht über die ökonomische Leistung der BMW Group und ihren ökologischen und gesellschaftlichen Beitrag.'),\n",
       " Document(metadata={'company': 'BMW', 'year': '2023', 'chunk': 2}, page_content='BMW Group Bericht 2023 An unsere Stakeholder Zusammengefasster Lagebericht Konzernabschluss Bilanzeid und Vermerke des Prüfers Vergütungsbericht Weitere Informationen'),\n",
       " Document(metadata={'company': 'BMW', 'year': '2023', 'chunk': 3}, page_content='Die BMW Group blickt auf ein erfolgreiches Jahr 2023. Das Unternehmen wächst und ist profitabel zugleich. Die Marke BMW ist erneut die Nummer eins im Premiumsegment'),\n",
       " Document(metadata={'company': 'BMW', 'year': '2023', 'chunk': 4}, page_content='. Über alle Marken, Segmente und Antriebstechnologien bieten wir unseren Kundinnen und Kunden ein hochattraktives und innovatives Produktprogramm'),\n",
       " Document(metadata={'company': 'BMW', 'year': '2023', 'chunk': 5}, page_content='. Fahrzeuge mit vollelektrischen Antrieben sind dabei unser größter Wachstumstreiber'),\n",
       " Document(metadata={'company': 'BMW', 'year': '2023', 'chunk': 6}, page_content='. Unsere Visionsfahrzeuge zeigen gleichzeitig, wie wir die NEUE KLASSE als nächsten Innovationssprung auf den Weg bringen'),\n",
       " Document(metadata={'company': 'BMW', 'year': '2023', 'chunk': 7}, page_content='. Starke Kennzahlen zeigen, dass wir Kurs halten, ungeachtet der zahlreichen Herausforderungen im Umfeld.'),\n",
       " Document(metadata={'company': 'BMW', 'year': '2023', 'chunk': 8}, page_content='Hierbei handelt es sich um eine vereinfachte Darstellung. Detaillierte Erläuterungen zu den Kennzahlen sowie die Kennzeichnung der Prüfungstiefe finden sich in den jeweiligen Berichtskapiteln.'),\n",
       " Document(metadata={'company': 'BMW', 'year': '2023', 'chunk': 9}, page_content='BMW Group Bericht 2023 An unsere Stakeholder Zusammengefasster Lagebericht Konzernabschluss Bilanzeid und Vermerke des Prüfers Vergütungsbericht'),\n",
       " Document(metadata={'company': 'BMW', 'year': '2023', 'chunk': 10}, page_content='Hierbei handelt es sich um eine vereinfachte Darstellung. Detaillierte Erläuterungen zu den Kennzahlen sowie die Kennzeichnung der Prüfungstiefe finden sich in den jeweiligen Berichtskapiteln.'),\n",
       " Document(metadata={'company': 'BMW', 'year': '2023', 'chunk': 11}, page_content='300 Vergleichende Darstellung der Vergütungsund Ertragsentwicklung nach § 162 Abs. 1 S. 2 Nr. 2 AktG'),\n",
       " Document(metadata={'company': 'BMW', 'year': '2023', 'chunk': 12}, page_content='\\nIntegrierte Berichterstattung und strategische Ausrichtung Die BMW Group sieht in der Vereinbarkeit von ökonomischen, ökologischen und gesellschaftlichen Belangen die Grundlage ihres wirtschaftlichen Erfolgs'),\n",
       " Document(metadata={'company': 'BMW', 'year': '2023', 'chunk': 13}, page_content='. Mit dem vorliegenden Bericht wollen wir einen qualifizierten Einblick in die BMW Group geben und unser Handeln transparent, nachvollziehbar und messbar machen'),\n",
       " Document(metadata={'company': 'BMW', 'year': '2023', 'chunk': 14}, page_content='. Dabei möchten wir unseren Stakeholdern aufzeigen, wie sich die ökonomischen, ökologischen und gesellschaftlichen Belange ergänzen, sich sogar bedingen können und welche externen Rahmenbedingungen das Unternehmen beeinflussen'),\n",
       " Document(metadata={'company': 'BMW', 'year': '2023', 'chunk': 15}, page_content='. Dazu erläutern wir ↗ Die BMW Group Strategie sowie die Weiterentwicklung und die Steuerung des Unternehmens anhand zentraler finanzieller und nichtfinanzieller Kennzahlen und Ziele ↗ Kennzahlen Dashboard'),\n",
       " Document(metadata={'company': 'BMW', 'year': '2023', 'chunk': 16}, page_content='.'),\n",
       " Document(metadata={'company': 'BMW', 'year': '2023', 'chunk': 17}, page_content='Am 12. März 2024 wurde der Jahresabschluss der BMW AG aufgestellt und die Freigabe zur Veröffentlichung des Konzernabschlusses vom Vorstand erteilt'),\n",
       " Document(metadata={'company': 'BMW', 'year': '2023', 'chunk': 18}, page_content='. Im BMW Group Bericht (im Weiteren auch „der Bericht“) werden die Lageberichte der Bayerische Motoren Werke Aktiengesellschaft (BMW AG) und des BMW Konzerns (BMW Group) zusammengefasst (zusammengefasster Lagebericht)'),\n",
       " Document(metadata={'company': 'BMW', 'year': '2023', 'chunk': 19}, page_content='.')]"
      ]
     },
     "execution_count": 5,
     "metadata": {},
     "output_type": "execute_result"
    }
   ],
   "source": [
    "bmw_chunks = [doc for doc in all_documents if doc.metadata[\"company\"].lower() == \"bmw\"]\n",
    "bmw_chunks[:20]"
   ]
  },
  {
   "cell_type": "code",
   "execution_count": 6,
   "id": "9aa541d4",
   "metadata": {},
   "outputs": [
    {
     "name": "stderr",
     "output_type": "stream",
     "text": [
      "/var/folders/9q/9wk8_fhx2zgbpf5xybsmn49w0000gn/T/ipykernel_32363/2710609826.py:2: LangChainDeprecationWarning: The class `HuggingFaceEmbeddings` was deprecated in LangChain 0.2.2 and will be removed in 1.0. An updated version of the class exists in the :class:`~langchain-huggingface package and should be used instead. To use it run `pip install -U :class:`~langchain-huggingface` and import as `from :class:`~langchain_huggingface import HuggingFaceEmbeddings``.\n",
      "  embeddings = HuggingFaceEmbeddings(model_name=model_name)\n",
      "/Users/yanoothan/Master/Advanced NLP/BWLLM/BWLLM_venv/lib/python3.13/site-packages/tqdm/auto.py:21: TqdmWarning: IProgress not found. Please update jupyter and ipywidgets. See https://ipywidgets.readthedocs.io/en/stable/user_install.html\n",
      "  from .autonotebook import tqdm as notebook_tqdm\n"
     ]
    }
   ],
   "source": [
    "# Embeddings vorbereiten\n",
    "embeddings = HuggingFaceEmbeddings(model_name=model_name)"
   ]
  },
  {
   "cell_type": "code",
   "execution_count": 7,
   "id": "d544700f",
   "metadata": {},
   "outputs": [],
   "source": [
    "# FAISS-Index erstellen\n",
    "faiss_index = FAISS.from_documents(all_documents, embedding=embeddings)"
   ]
  },
  {
   "cell_type": "code",
   "execution_count": 8,
   "id": "412be47a",
   "metadata": {},
   "outputs": [],
   "source": [
    "# Lokal speichern\n",
    "faiss_index.save_local(index_path)"
   ]
  },
  {
   "cell_type": "code",
   "execution_count": null,
   "id": "2512788d",
   "metadata": {},
   "outputs": [],
   "source": []
  }
 ],
 "metadata": {
  "kernelspec": {
   "display_name": "BWLLM_venv",
   "language": "python",
   "name": "python3"
  },
  "language_info": {
   "codemirror_mode": {
    "name": "ipython",
    "version": 3
   },
   "file_extension": ".py",
   "mimetype": "text/x-python",
   "name": "python",
   "nbconvert_exporter": "python",
   "pygments_lexer": "ipython3",
   "version": "3.13.2"
  }
 },
 "nbformat": 4,
 "nbformat_minor": 5
}
