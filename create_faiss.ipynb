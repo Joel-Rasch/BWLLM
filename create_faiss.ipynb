{
 "cells": [
  {
   "cell_type": "code",
   "execution_count": 44,
   "id": "7b557eb5",
   "metadata": {},
   "outputs": [],
   "source": [
    "import os\n",
    "import re\n",
    "from pathlib import Path\n",
    "from langchain_community.embeddings import HuggingFaceEmbeddings\n",
    "from langchain_community.vectorstores import FAISS\n",
    "from langchain.text_splitter import RecursiveCharacterTextSplitter\n",
    "from langchain.schema import Document"
   ]
  },
  {
   "cell_type": "code",
   "execution_count": 49,
   "id": "f9c49403",
   "metadata": {},
   "outputs": [],
   "source": [
    "# Parameter\n",
    "input_dir = Path(\"data/processed\")\n",
    "chunk_size = 200\n",
    "chunk_overlap = 0\n",
    "index_path = \"faiss_index\"\n",
    "model_name = \"sentence-transformers/all-MiniLM-L6-v2\""
   ]
  },
  {
   "cell_type": "code",
   "execution_count": 50,
   "id": "ca2e9760",
   "metadata": {},
   "outputs": [],
   "source": [
    "# Text splitter konfigurieren\n",
    "text_splitter = RecursiveCharacterTextSplitter(\n",
    "    chunk_size=chunk_size,\n",
    "    chunk_overlap=chunk_overlap,\n",
    "    separators=[\"\\n\\n\", \"\\n\", \".\", \" \", \"\"]\n",
    ")"
   ]
  },
  {
   "cell_type": "code",
   "execution_count": 51,
   "id": "3bada00a",
   "metadata": {},
   "outputs": [],
   "source": [
    "# Alle Dokumente sammeln\n",
    "all_documents = []\n",
    "\n",
    "for md_file in input_dir.glob(\"*.md\"):\n",
    "\n",
    "    # Dateiname analysieren\n",
    "    filename = md_file.stem  # z. B. \"bmw_2023_filtered\"\n",
    "    parts = filename.split(\"_\")  # → [\"bmw\", \"2023\", \"filtered\"]\n",
    "\n",
    "    # Metadaten extrahieren\n",
    "    company = parts[0]\n",
    "    year = parts[1]\n",
    "\n",
    "    with md_file.open(\"r\", encoding=\"utf-8\") as f:\n",
    "        text = f.read()\n",
    "\n",
    "    text = text.replace('\\u202f', ' ') # Filter 1: Unicode entfernen\n",
    "    text = re.sub(r'(?<=\\d)\\.(?=\\d)', '', text) # Filter 2: Entferne Punkte zwischen zwei Ziffern (z. B. 1.234 → 1234)\n",
    "\n",
    "    chunks = text_splitter.split_text(text)\n",
    "    \n",
    "    for i, chunk in enumerate(chunks):\n",
    "        all_documents.append(Document(\n",
    "            page_content=chunk,\n",
    "            metadata={\"company\": company, \"year\": year, \"chunk\": i}\n",
    "        ))"
   ]
  },
  {
   "cell_type": "code",
   "execution_count": 52,
   "id": "738f2b85",
   "metadata": {},
   "outputs": [
    {
     "data": {
      "text/plain": [
       "[Document(metadata={'company': 'BMW', 'year': '2023', 'chunk': 6912}, page_content='. In den Bereichen Digitalisierung, Nachhaltigkeit und Kundenzufriedenheit lagen die Zielerreichungen zwischen 70 und 80 Prozent.'),\n",
       " Document(metadata={'company': 'BMW', 'year': '2023', 'chunk': 6913}, page_content='Die Kennzahlenentwicklung der letzten fünf Jahre zeigt eine positive Gesamttendenz mit teils starken Schwankungen'),\n",
       " Document(metadata={'company': 'BMW', 'year': '2023', 'chunk': 6914}, page_content='. Die Fahrzeugauslieferungen stiegen von 2185793 Einheiten im Jahr 2019 auf 2554183 im Jahr 2023'),\n",
       " Document(metadata={'company': 'BMW', 'year': '2023', 'chunk': 6915}, page_content='. Das Konzernergebnis vor Steuern wuchs von 7118 Millionen Euro auf einen Höchststand von 23509 Millionen Euro im Jahr 2022 und lag 2023 bei 17096 Millionen Euro'),\n",
       " Document(metadata={'company': 'BMW', 'year': '2023', 'chunk': 6916}, page_content='. Der Free Cashflow im Segment Automobile schwankte stark: von 2567 Millionen Euro im Jahr 2019 auf 6942 Millionen Euro im Jahr 2023'),\n",
       " Document(metadata={'company': 'BMW', 'year': '2023', 'chunk': 6917}, page_content='. Die EBIT-Marge im Segment Automobile erreichte 2023 einen Wert von 9,8 Prozent, nach einem Tiefstand von 2,7 Prozent im Jahr 2020. Auch der RoCE im Automobilbereich verbesserte sich auf 20,2 Prozent'),\n",
       " Document(metadata={'company': 'BMW', 'year': '2023', 'chunk': 6918}, page_content='. Die Anzahl der Mitarbeitenden stieg kontinuierlich von 126016 im Jahr 2019 auf 154950 in 2023.'),\n",
       " Document(metadata={'company': 'BMW', 'year': '2023', 'chunk': 6919}, page_content='Das Segment Automobile erzielte im Jahr 2023 einen Umsatz von 132277 Millionen Euro, ein Plus von 7,8 Prozent'),\n",
       " Document(metadata={'company': 'BMW', 'year': '2023', 'chunk': 6920}, page_content='. Das EBIT belief sich auf 12981 Millionen Euro, was einer EBIT-Marge von 9,8 Prozent entspricht. Der Free Cashflow betrug 6942 Millionen Euro und sank im Vergleich zum Vorjahr um über 30 Prozent'),\n",
       " Document(metadata={'company': 'BMW', 'year': '2023', 'chunk': 6921}, page_content='. Der RoCE im Segment lag bei 20,2 Prozent. Die Bruttomarge des Segments erreichte 19,1 Prozent. Die Investitionen beliefen sich auf 11440 Millionen Euro.'),\n",
       " Document(metadata={'company': 'BMW', 'year': '2023', 'chunk': 6922}, page_content='Im Bereich Motorräder erwirtschaftete BMW im Jahr 2023 einen Umsatz von 3214 Millionen Euro, ein Anstieg um 2,8 Prozent gegenüber dem Vorjahr'),\n",
       " Document(metadata={'company': 'BMW', 'year': '2023', 'chunk': 6923}, page_content='. Das EBIT lag bei 259 Millionen Euro, was eine EBIT-Marge von 8,1 Prozent ergibt. Der RoCE im Segment Motorräder belief sich auf 22,1 Prozent.'),\n",
       " Document(metadata={'company': 'BMW', 'year': '2023', 'chunk': 6924}, page_content='Im Segment Finanzdienstleistungen wurden 1542514 neue Endkundenverträge abgeschlossen, ein Rückgang von 12,9 Prozent. Die Eigenkapitalrendite (RoE) des Segments sank leicht auf 17,2 Prozent'),\n",
       " Document(metadata={'company': 'BMW', 'year': '2023', 'chunk': 6925}, page_content='. Das Ergebnis vor Steuern betrug 3281 Millionen Euro.'),\n",
       " Document(metadata={'company': 'BMW', 'year': '2023', 'chunk': 6926}, page_content='Der Konzernumsatz belief sich auf 155498 Millionen Euro (+9,0 %), das Konzernergebnis vor Steuern lag bei 17096 Millionen Euro (–27,2 %)'),\n",
       " Document(metadata={'company': 'BMW', 'year': '2023', 'chunk': 6927}, page_content='. Die Umsatzrendite vor Steuern fiel von 16,5 Prozent auf 11,0 Prozent. Die Investitionen stiegen um 7,8 Prozent auf 11440 Millionen Euro, die Abschreibungen betrugen 8974 Millionen Euro'),\n",
       " Document(metadata={'company': 'BMW', 'year': '2023', 'chunk': 6928}, page_content='. Die Steuerquote lag bei 28,8 Prozent. Der Konzernjahresüberschuss belief sich auf 12165 Millionen Euro.'),\n",
       " Document(metadata={'company': 'BMW', 'year': '2023', 'chunk': 6929}, page_content='Im Jahr 2023 wurden weltweit 2252793 BMW Fahrzeuge ausgeliefert, 295358 MINI und 6032 Rolls-Royce. Die Gesamtproduktion belief sich auf 2661922 Fahrzeuge'),\n",
       " Document(metadata={'company': 'BMW', 'year': '2023', 'chunk': 6930}, page_content='. BMW fertigte 2340547 Einheiten, MINI 315196 und Rolls-Royce 6179 Fahrzeuge. Bei Motorrädern wurden 221988 Einheiten produziert. Die CO₂-Emissionen der EU-Neuwagenflotte sanken auf 102,1 g/km'),\n",
       " Document(metadata={'company': 'BMW', 'year': '2023', 'chunk': 6931}, page_content='. Der spezifische Energieverbrauch pro Fahrzeug in der Produktion betrug 2,2 MWh, während der Wasserverbrauch bei 2,18 m³ lag.')]"
      ]
     },
     "execution_count": 52,
     "metadata": {},
     "output_type": "execute_result"
    }
   ],
   "source": [
    "bmw_chunks = [doc for doc in all_documents if doc.metadata[\"company\"].lower() == \"bmw\"]\n",
    "bmw_chunks[-20:]"
   ]
  },
  {
   "cell_type": "code",
   "execution_count": 53,
   "id": "9aa541d4",
   "metadata": {},
   "outputs": [],
   "source": [
    "# Embeddings vorbereiten\n",
    "embeddings = HuggingFaceEmbeddings(model_name=model_name)"
   ]
  },
  {
   "cell_type": "code",
   "execution_count": 54,
   "id": "d544700f",
   "metadata": {},
   "outputs": [],
   "source": [
    "# FAISS-Index erstellen\n",
    "faiss_index = FAISS.from_documents(all_documents, embedding=embeddings)"
   ]
  },
  {
   "cell_type": "code",
   "execution_count": 55,
   "id": "412be47a",
   "metadata": {},
   "outputs": [],
   "source": [
    "# Lokal speichern\n",
    "faiss_index.save_local(index_path)"
   ]
  },
  {
   "cell_type": "code",
   "execution_count": null,
   "id": "a6958955",
   "metadata": {},
   "outputs": [],
   "source": []
  }
 ],
 "metadata": {
  "kernelspec": {
   "display_name": "BWLLM_venv",
   "language": "python",
   "name": "python3"
  },
  "language_info": {
   "codemirror_mode": {
    "name": "ipython",
    "version": 3
   },
   "file_extension": ".py",
   "mimetype": "text/x-python",
   "name": "python",
   "nbconvert_exporter": "python",
   "pygments_lexer": "ipython3",
   "version": "3.13.2"
  }
 },
 "nbformat": 4,
 "nbformat_minor": 5
}
