{
 "cells": [
  {
   "cell_type": "code",
   "execution_count": 1,
   "id": "7b557eb5",
   "metadata": {},
   "outputs": [],
   "source": [
    "import os\n",
    "import re\n",
    "from pathlib import Path\n",
    "from langchain_community.embeddings import HuggingFaceEmbeddings\n",
    "from langchain_community.vectorstores import FAISS\n",
    "from langchain.text_splitter import RecursiveCharacterTextSplitter\n",
    "from langchain.schema import Document"
   ]
  },
  {
   "cell_type": "code",
   "execution_count": 2,
   "id": "f9c49403",
   "metadata": {},
   "outputs": [],
   "source": [
    "# Parameter\n",
    "input_dir = Path(\"data/processed\")\n",
    "chunk_size = 200\n",
    "chunk_overlap = 0\n",
    "index_path = \"faiss_index\"\n",
    "model_name = \"sentence-transformers/all-MiniLM-L6-v2\""
   ]
  },
  {
   "cell_type": "code",
   "execution_count": 3,
   "id": "ca2e9760",
   "metadata": {},
   "outputs": [],
   "source": [
    "# Text splitter konfigurieren\n",
    "text_splitter = RecursiveCharacterTextSplitter(\n",
    "    chunk_size=chunk_size,\n",
    "    chunk_overlap=chunk_overlap,\n",
    "    separators=[\"\\n\\n\", \"\\n\", \".\", \" \", \"\"]\n",
    ")"
   ]
  },
  {
   "cell_type": "code",
   "execution_count": 4,
   "id": "3bada00a",
   "metadata": {},
   "outputs": [],
   "source": [
    "# Alle Dokumente sammeln\n",
    "all_documents = []\n",
    "\n",
    "for md_file in input_dir.glob(\"*.md\"):\n",
    "\n",
    "    # Dateiname analysieren\n",
    "    filename = md_file.stem  # z. B. \"bmw_2023_filtered\"\n",
    "    parts = filename.split(\"_\")  # → [\"bmw\", \"2023\", \"filtered\"]\n",
    "\n",
    "    # Metadaten extrahieren\n",
    "    company = parts[0]\n",
    "    year = parts[1]\n",
    "\n",
    "    with md_file.open(\"r\", encoding=\"utf-8\") as f:\n",
    "        text = f.read()\n",
    "\n",
    "    text = text.replace('\\u202f', ' ') # Filter 1: Unicode entfernen\n",
    "    text = re.sub(r'(?<=\\d)\\.(?=\\d)', '', text) # Filter 2: Entferne Punkte zwischen zwei Ziffern (z. B. 1.234 → 1234)\n",
    "\n",
    "    chunks = text_splitter.split_text(text)\n",
    "    \n",
    "    for i, chunk in enumerate(chunks):\n",
    "        all_documents.append(Document(\n",
    "            page_content=chunk,\n",
    "            metadata={\"company\": company, \"year\": year, \"chunk\": i}\n",
    "        ))"
   ]
  },
  {
   "cell_type": "code",
   "execution_count": 5,
   "id": "738f2b85",
   "metadata": {},
   "outputs": [
    {
     "data": {
      "text/plain": [
       "[Document(metadata={'company': 'BMW', 'year': '2023', 'chunk': 9999}, page_content='Die Produktion von Motorrädern umfasste 221988 Einheiten.\\nDer Vertragsbestand im Finanzdienstleistungsbereich lag bei 5312689 Verträgen.\\nDas finanzielle Geschäftsvolumen betrug 137910 Mio. €.'),\n",
       " Document(metadata={'company': 'BMW', 'year': '2023', 'chunk': 10000}, page_content='Die Umsatzerlöse erreichten 155498 Mio. €.\\nDie Bruttomarge belief sich auf 19,1 %.\\nDas Ergebnis vor Finanzergebnis lag bei 18482 Mio. €.\\nDas Ergebnis vor Steuern betrug 17096 Mio. €.'),\n",
       " Document(metadata={'company': 'BMW', 'year': '2023', 'chunk': 10001}, page_content='Die Umsatzrendite (Ergebnis vor Steuern/Umsatzerlöse) erreichte 11,0 %.\\nDie Ertragssteuern beliefen sich auf 4931 Mio. €.\\nDie Steuerquote betrug 28,8 %.'),\n",
       " Document(metadata={'company': 'BMW', 'year': '2023', 'chunk': 10002}, page_content='Die langfristigen Vermögenswerte beliefen sich auf 155918 Millionen Euro.\\nDie kurzfristigen Vermögenswerte betrugen 94972 Millionen Euro.'),\n",
       " Document(metadata={'company': 'BMW', 'year': '2023', 'chunk': 10003}, page_content='Die Investitionen, ohne aktivierte Entwicklungskosten, lagen bei 8836 Millionen Euro.\\nDie Investitionsquote ohne aktivierte Entwicklungskosten erreichte 5,7 %.'),\n",
       " Document(metadata={'company': 'BMW', 'year': '2023', 'chunk': 10004}, page_content='Das Eigenkapital wies 92923 Millionen Euro aus.\\nDie Eigenkapitalquote betrug 37,0 %.\\nDie langfristigen Rückstellungen und Verbindlichkeiten beliefen sich auf 70966 Millionen Euro.'),\n",
       " Document(metadata={'company': 'BMW', 'year': '2023', 'chunk': 10005}, page_content='Die kurzfristigen Rückstellungen und Verbindlichkeiten summierten sich auf 87001 Millionen Euro.\\nDie Bilanzsumme erreichte 250890 Millionen Euro.'),\n",
       " Document(metadata={'company': 'BMW', 'year': '2023', 'chunk': 10006}, page_content='Die Zahlungsmittel und Zahlungsmitteläquivalente beliefen sich auf 17327 Millionen Euro.\\nDer Free Cashflow im Segment Automobile betrug 6942 Millionen Euro.'),\n",
       " Document(metadata={'company': 'BMW', 'year': '2023', 'chunk': 10007}, page_content='Die Anzahl der Mitarbeitenden am Jahresende lag bei 154950.\\nDer Personalaufwand je Mitarbeitenden betrug 96778 Euro.\\nDie Dividendensumme belief sich auf 3802 Millionen Euro.'),\n",
       " Document(metadata={'company': 'BMW', 'year': '2023', 'chunk': 10008}, page_content='Die Dividende je Stammaktie/Vorzugsaktie wird separat ausgewiesen, beginnend mit 6,00/6,02 Euro in den letzten Jahren.'),\n",
       " Document(metadata={'company': 'BMW', 'year': '2023', 'chunk': 10009}, page_content='Das Vorjahresniveau wird als Referenzpunkt mit einer Schwankungsbreite von plus oder minus 0,9 Prozent angegeben. Ein leichter Anstieg liegt im Bereich von einem bis 4,9 Prozent'),\n",
       " Document(metadata={'company': 'BMW', 'year': '2023', 'chunk': 10010}, page_content='. Ein leichter Rückgang wird mit einem bis 4,9 Prozent unter dem Vorjahresniveau definiert. Ein solider Anstieg bewegt sich zwischen 5,0 und 9,9 Prozent'),\n",
       " Document(metadata={'company': 'BMW', 'year': '2023', 'chunk': 10011}, page_content='. Ein moderater Rückgang kennzeichnet Werte zwischen minus 5,0 und minus 9,9 Prozent. Ein deutlicher Anstieg übersteigt 10,0 Prozent. Ein deutlicher Rückgang liegt unterhalb von minus 10,0 Prozent.'),\n",
       " Document(metadata={'company': 'BMW', 'year': '2023', 'chunk': 10012}, page_content='Die Bayerische Motoren Werke Aktiengesellschaft hat die Telefonnummer +49 89 382-2 45 44.\\nWeitere Informationen über die BMW Group erhalten Sie im Internet unter der Adresse www.bmwgroup.com.'),\n",
       " Document(metadata={'company': 'BMW', 'year': '2023', 'chunk': 10013}, page_content='Die BMW Group ist in München ansässig, die Postleitzahl lautet 80788.\\nDie Haupttelefonnummer der BMW Group ist +49 89 382-0.\\nDie Faxnummer für allgemeine Anfragen ist +49 89 382-2 4418.'),\n",
       " Document(metadata={'company': 'BMW', 'year': '2023', 'chunk': 10014}, page_content='Die allgemeine E-Mail-Adresse der BMW Group ist presse@bmwgroup.com.\\nFür Investor Relations können Sie die Adresse www.bmwgroup.com/ir direkt erreichen.'),\n",
       " Document(metadata={'company': 'BMW', 'year': '2023', 'chunk': 10015}, page_content='Die Telefonnummer für den Bereich Investor Relations ist +49 89 382-2 53 87.\\nDie Faxnummer für den Bereich Investor Relations ist +49 89 382-1 46 61.'),\n",
       " Document(metadata={'company': 'BMW', 'year': '2023', 'chunk': 10016}, page_content='Die E-Mail-Adresse für Investor Relations lautet ir@bmwgroup.com.\\nInformationen zu den einzelnen Marken der BMW Group finden Sie auf separaten Webseiten.'),\n",
       " Document(metadata={'company': 'BMW', 'year': '2023', 'chunk': 10017}, page_content='Sie finden Informationen zu BMW unter www.bmw.com.\\nInformationen zu MINI sind unter www.mini.com abrufbar.\\nRolls-Royce Motor Cars sind unter www.rolls-roycemotorcars.com zu finden.'),\n",
       " Document(metadata={'company': 'BMW', 'year': '2023', 'chunk': 10018}, page_content='Die Marke BMW Motorrad ist unter www.bmw-motorrad.com vertreten.')]"
      ]
     },
     "execution_count": 5,
     "metadata": {},
     "output_type": "execute_result"
    }
   ],
   "source": [
    "bmw_chunks = [doc for doc in all_documents if doc.metadata[\"company\"].lower() == \"bmw\"]\n",
    "bmw_chunks[-20:]"
   ]
  },
  {
   "cell_type": "code",
   "execution_count": 6,
   "id": "9aa541d4",
   "metadata": {},
   "outputs": [
    {
     "name": "stderr",
     "output_type": "stream",
     "text": [
      "/var/folders/9q/9wk8_fhx2zgbpf5xybsmn49w0000gn/T/ipykernel_2328/2710609826.py:2: LangChainDeprecationWarning: The class `HuggingFaceEmbeddings` was deprecated in LangChain 0.2.2 and will be removed in 1.0. An updated version of the class exists in the :class:`~langchain-huggingface package and should be used instead. To use it run `pip install -U :class:`~langchain-huggingface` and import as `from :class:`~langchain_huggingface import HuggingFaceEmbeddings``.\n",
      "  embeddings = HuggingFaceEmbeddings(model_name=model_name)\n",
      "/Users/yanoothan/Master/Advanced NLP/BWLLM/BWLLM_venv/lib/python3.13/site-packages/tqdm/auto.py:21: TqdmWarning: IProgress not found. Please update jupyter and ipywidgets. See https://ipywidgets.readthedocs.io/en/stable/user_install.html\n",
      "  from .autonotebook import tqdm as notebook_tqdm\n"
     ]
    }
   ],
   "source": [
    "# Embeddings vorbereiten\n",
    "embeddings = HuggingFaceEmbeddings(model_name=model_name)"
   ]
  },
  {
   "cell_type": "code",
   "execution_count": 8,
   "id": "d544700f",
   "metadata": {},
   "outputs": [],
   "source": [
    "# FAISS-Index erstellen\n",
    "faiss_index = FAISS.from_documents(all_documents, embedding=embeddings)"
   ]
  },
  {
   "cell_type": "code",
   "execution_count": 9,
   "id": "412be47a",
   "metadata": {},
   "outputs": [],
   "source": [
    "# Lokal speichern\n",
    "faiss_index.save_local(index_path)"
   ]
  },
  {
   "cell_type": "code",
   "execution_count": null,
   "id": "a6958955",
   "metadata": {},
   "outputs": [],
   "source": []
  }
 ],
 "metadata": {
  "kernelspec": {
   "display_name": "BWLLM_venv",
   "language": "python",
   "name": "python3"
  },
  "language_info": {
   "codemirror_mode": {
    "name": "ipython",
    "version": 3
   },
   "file_extension": ".py",
   "mimetype": "text/x-python",
   "name": "python",
   "nbconvert_exporter": "python",
   "pygments_lexer": "ipython3",
   "version": "3.13.2"
  }
 },
 "nbformat": 4,
 "nbformat_minor": 5
}
